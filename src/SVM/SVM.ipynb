{
 "cells": [
  {
   "cell_type": "markdown",
   "metadata": {},
   "source": [
    "# Máquina Vetores de Suporte"
   ]
  },
  {
   "cell_type": "markdown",
   "metadata": {},
   "source": [
    "Em uma classificação binária linear com dados x,y, com y em {-1,1} e os parâmetros theta e b(bias), o objetivo é encontrar o hiperplano que separa os dados em duas classes distintas, o classificador Máquina Vetores de Suporte, do inglês Support Vector Machine (SVM), pode ser definido como \n",
    "\n",
    "<a href=\"http://www.codecogs.com/eqnedit.php?latex=z&space;=&space;\\theta^{T}x&space;&plus;&space;b\" target=\"_blank\"><img src=\"http://latex.codecogs.com/gif.latex?z&space;=&space;\\theta^{T}x&space;&plus;&space;b\" title=\"z = \\theta^{T}x + b\" /></a>\n",
    "\n",
    "<a href=\"http://www.codecogs.com/eqnedit.php?latex=h_{\\theta,&space;b}(x)&space;=&space;g(z)\" target=\"_blank\"><img src=\"http://latex.codecogs.com/gif.latex?h_{\\theta,&space;b}(x)&space;=&space;g(z)\" title=\"h_{\\theta, b}(x) = g(z)\" /></a>\n",
    "\n",
    "Onde g(z) = 1 se z ≥ 0 ou $g(z) = −1$ caso contrario.\n",
    "\n",
    "Um conceito importante no SVM é a margem. Ela é a distância entre o hiperplano e o primeiro ponto de cada classe. O objetivo neste caso é encontrar uma fronteira de decisão que maximize a margem, gerando como resultado um conjunto de previsões com um bom ajuste."
   ]
  },
  {
   "cell_type": "markdown",
   "metadata": {},
   "source": [
    "<b> Importes"
   ]
  },
  {
   "cell_type": "code",
   "execution_count": 1,
   "metadata": {},
   "outputs": [],
   "source": [
    "from sklearn import preprocessing, neighbors, svm\n",
    "from sklearn.model_selection import train_test_split\n",
    "from os import listdir\n",
    "from os.path import isfile, join\n",
    "import numpy as np\n",
    "import geopandas as gpd\n",
    "import pandas as pd\n",
    "import requests\n",
    "import io"
   ]
  },
  {
   "cell_type": "markdown",
   "metadata": {},
   "source": [
    "<b> Configurado os caminhos"
   ]
  },
  {
   "cell_type": "code",
   "execution_count": 2,
   "metadata": {},
   "outputs": [],
   "source": [
    "falsospath = \"/home/sansigolo/Documents/git/CAP-240-394/src/SVM/AQM_L8_221_067_2017/FALSOS_221_067-2017/\"\n",
    "\n",
    "queimadaspath = \"/home/sansigolo/Documents/git/CAP-240-394/src/SVM/AQM_L8_221_067_2017/QUEIMADAS_221_067-2017/\""
   ]
  },
  {
   "cell_type": "markdown",
   "metadata": {},
   "source": [
    "<b> Pegando os nomes de arquivo"
   ]
  },
  {
   "cell_type": "code",
   "execution_count": 3,
   "metadata": {},
   "outputs": [],
   "source": [
    "falsosfilenames = [y for y in listdir(falsospath) for ending in ['dbf', 'shp', 'prj', 'shx'] if y.endswith(ending)] \n",
    "\n",
    "queimadasfilenames = [y for y in listdir(queimadaspath) for ending in ['dbf', 'shp', 'prj', 'shx'] if y.endswith(ending)] "
   ]
  },
  {
   "cell_type": "markdown",
   "metadata": {},
   "source": [
    "<b> Imprimindo os nomes"
   ]
  },
  {
   "cell_type": "code",
   "execution_count": 4,
   "metadata": {},
   "outputs": [
    {
     "name": "stdout",
     "output_type": "stream",
     "text": [
      "['FALSOS_221_067-2017.dbf', 'FALSOS_221_067-2017.prj', 'FALSOS_221_067-2017.shp', 'FALSOS_221_067-2017.shx']\n",
      "\n",
      "['QUEIMADAS_221_067-2017.dbf', 'QUEIMADAS_221_067-2017.prj', 'QUEIMADAS_221_067-2017.shp', 'QUEIMADAS_221_067-2017.shx']\n"
     ]
    }
   ],
   "source": [
    "print(falsosfilenames)\n",
    "print(\"\")\n",
    "print(queimadasfilenames)"
   ]
  },
  {
   "cell_type": "markdown",
   "metadata": {},
   "source": [
    "<b> Pegandando o Shapefile"
   ]
  },
  {
   "cell_type": "code",
   "execution_count": 5,
   "metadata": {},
   "outputs": [],
   "source": [
    "f_dbf, f_prj, f_shp, f_shx = [falsosfilename for falsosfilename in falsosfilenames]\n",
    "\n",
    "falsos = gpd.read_file(falsospath+f_shp)"
   ]
  },
  {
   "cell_type": "markdown",
   "metadata": {},
   "source": [
    "<b> Pegando o Shapefile"
   ]
  },
  {
   "cell_type": "code",
   "execution_count": 6,
   "metadata": {},
   "outputs": [],
   "source": [
    "q_dbf, q_prj, q_shp, q_shx = [queimadasfilename for queimadasfilename in queimadasfilenames]\n",
    "\n",
    "queimadas = gpd.read_file(queimadaspath+q_shp)"
   ]
  },
  {
   "cell_type": "markdown",
   "metadata": {},
   "source": [
    "<b> Imprimindo o Shape"
   ]
  },
  {
   "cell_type": "code",
   "execution_count": 7,
   "metadata": {},
   "outputs": [
    {
     "name": "stdout",
     "output_type": "stream",
     "text": [
      "\n",
      "Falsos Shape: (8427, 25)\n",
      "\n",
      "Queimadas Shape: (7243, 25)\n"
     ]
    }
   ],
   "source": [
    "print(\"\\nFalsos Shape: {}\".format(falsos.shape)+\"\\n\")\n",
    "\n",
    "print(\"Queimadas Shape: {}\".format(queimadas.shape))"
   ]
  },
  {
   "cell_type": "markdown",
   "metadata": {},
   "source": [
    "<b> Criando o Dataframe"
   ]
  },
  {
   "cell_type": "code",
   "execution_count": 8,
   "metadata": {},
   "outputs": [],
   "source": [
    "df = pd.concat([falsos, queimadas], ignore_index=True)\n",
    "\n",
    "df.replace('?', -99999, inplace=True)"
   ]
  },
  {
   "cell_type": "markdown",
   "metadata": {},
   "source": [
    "<b> Imprimindo o Dataframe"
   ]
  },
  {
   "cell_type": "code",
   "execution_count": 9,
   "metadata": {},
   "outputs": [
    {
     "name": "stdout",
     "output_type": "stream",
     "text": [
      "\n",
      "Dataframe tail:\n",
      "              id  cod_sat                cena_id                      nome_arq  \\\n",
      "15665  59258025        8  LC82210672017285LGN00  LC82210672017285LGN00.tar.gz   \n",
      "15666  59258029        8  LC82210672017285LGN00  LC82210672017285LGN00.tar.gz   \n",
      "15667  59258034        8  LC82210672017285LGN00  LC82210672017285LGN00.tar.gz   \n",
      "15668  59258037        8  LC82210672017285LGN00  LC82210672017285LGN00.tar.gz   \n",
      "15669  59258055        8  LC82210672017285LGN00  LC82210672017285LGN00.tar.gz   \n",
      "\n",
      "       orb_pto     area_ha  perim                     n_arq_ant      ndvi  \\\n",
      "15665  221_067    2.164134    840  LC82210672017269LGN00.tar.gz  0.272034   \n",
      "15666  221_067    0.721722    360  LC82210672017269LGN00.tar.gz  0.262785   \n",
      "15667  221_067    2.525723    900  LC82210672017269LGN00.tar.gz  0.208865   \n",
      "15668  221_067    2.343879    780  LC82210672017269LGN00.tar.gz  0.236250   \n",
      "15669  221_067  209.233220  18479  LC82210672017269LGN00.tar.gz  0.210700   \n",
      "\n",
      "           nbrl                        ...                          medianb4  \\\n",
      "15665  0.004431                        ...                          0.110541   \n",
      "15666 -0.021231                        ...                          0.122500   \n",
      "15667 -0.079713                        ...                          0.116598   \n",
      "15668 -0.082420                        ...                          0.110277   \n",
      "15669 -0.092585                        ...                          0.095864   \n",
      "\n",
      "       medianb5  medianb6  medianb7  verifica  proc_id  focos  data_atual  \\\n",
      "15665  0.191617  0.250285  0.202771         1     8928      6  2017-10-12   \n",
      "15666  0.211184  0.280092  0.217251         1     8928      0  2017-10-12   \n",
      "15667  0.182004  0.248027  0.206691         1     8928      2  2017-10-12   \n",
      "15668  0.184493  0.259347  0.221413         1     8928      5  2017-10-12   \n",
      "15669  0.153738  0.217868  0.180848         1     8928      8  2017-10-12   \n",
      "\n",
      "                data_anter                                           geometry  \n",
      "15665  2017-09-26 00:00:00  POLYGON ((-46.6706023749867 -9.972446449513759...  \n",
      "15666  2017-09-26 00:00:00  POLYGON ((-46.7489690047542 -9.9432957293699, ...  \n",
      "15667  2017-09-26 00:00:00  POLYGON ((-46.0307540690459 -9.94573674218835,...  \n",
      "15668  2017-09-26 00:00:00  POLYGON ((-46.6502458822811 -9.95057801521477,...  \n",
      "15669  2017-09-26 00:00:00  POLYGON ((-46.2451691105562 -9.91489564663595,...  \n",
      "\n",
      "[5 rows x 25 columns]\n"
     ]
    }
   ],
   "source": [
    "print(\"\\nDataframe tail:\\n\", df.tail())"
   ]
  },
  {
   "cell_type": "markdown",
   "metadata": {},
   "source": [
    "<b> Removendo as colunas"
   ]
  },
  {
   "cell_type": "code",
   "execution_count": 13,
   "metadata": {},
   "outputs": [],
   "source": [
    "df.drop(['id','cod_sat','cena_id', 'area_ha', 'dif_dnbrl', 'medianb6', 'medianb7', 'nome_arq', 'orb_pto', 'n_arq_ant', 'medianb1', 'proc_id','data_atual', 'data_anter', 'geometry', 'focos', 'ndvi', 'perim'], 1, inplace=True)"
   ]
  },
  {
   "cell_type": "markdown",
   "metadata": {},
   "source": [
    "<b> Imprimindo o dataframe"
   ]
  },
  {
   "cell_type": "code",
   "execution_count": 14,
   "metadata": {},
   "outputs": [
    {
     "name": "stdout",
     "output_type": "stream",
     "text": [
      "\n",
      "Dataframe tail:\n",
      "            nbrl  dif_ndvi  medianb2  medianb3  medianb4  medianb5  verifica  \\\n",
      "15665  0.004431  0.196688  0.113548  0.099376  0.110541  0.191617         1   \n",
      "15666 -0.021231  0.137276  0.121013  0.106137  0.122500  0.211184         1   \n",
      "15667 -0.079713  0.132524  0.113283  0.101523  0.116598  0.182004         1   \n",
      "15668 -0.082420  0.119911  0.109639  0.094806  0.110277  0.184493         1   \n",
      "15669 -0.092585  0.131845  0.100929  0.086746  0.095864  0.153738         1   \n",
      "\n",
      "           ndwi         bai       nbr  \n",
      "15665 -0.132762   57.358694 -0.028283  \n",
      "15666 -0.140264   42.803092 -0.014161  \n",
      "15667 -0.153531   65.960875 -0.063513  \n",
      "15668 -0.168651   64.085890 -0.090958  \n",
      "15669 -0.172573  113.584703 -0.081024  \n"
     ]
    }
   ],
   "source": [
    "print(\"\\nDataframe tail:\\n\", df.tail())"
   ]
  },
  {
   "cell_type": "markdown",
   "metadata": {},
   "source": [
    "<b> Configurando X e y"
   ]
  },
  {
   "cell_type": "code",
   "execution_count": 15,
   "metadata": {},
   "outputs": [],
   "source": [
    "X = np.array(df.drop(['verifica'],1))\n",
    "y = np.array(df['verifica'])"
   ]
  },
  {
   "cell_type": "markdown",
   "metadata": {},
   "source": [
    "<b> Fazendo o treinamento e o teste"
   ]
  },
  {
   "cell_type": "code",
   "execution_count": 16,
   "metadata": {},
   "outputs": [],
   "source": [
    "X_train, X_test, y_train, y_test = train_test_split(X,y,test_size=0.2)"
   ]
  },
  {
   "cell_type": "markdown",
   "metadata": {},
   "source": [
    "<b> Rodando a Máquina Vetores de Suporte"
   ]
  },
  {
   "cell_type": "code",
   "execution_count": 17,
   "metadata": {},
   "outputs": [
    {
     "data": {
      "text/plain": [
       "SVC(C=1.0, cache_size=200, class_weight=None, coef0=0.0,\n",
       "  decision_function_shape='ovr', degree=3, gamma='auto', kernel='rbf',\n",
       "  max_iter=-1, probability=False, random_state=None, shrinking=True,\n",
       "  tol=0.001, verbose=False)"
      ]
     },
     "execution_count": 17,
     "metadata": {},
     "output_type": "execute_result"
    }
   ],
   "source": [
    "clf = svm.SVC()\n",
    "clf.fit(X_train, y_train)"
   ]
  },
  {
   "cell_type": "markdown",
   "metadata": {},
   "source": [
    "<b>Imprimindo a acurácia"
   ]
  },
  {
   "cell_type": "code",
   "execution_count": 18,
   "metadata": {},
   "outputs": [
    {
     "name": "stdout",
     "output_type": "stream",
     "text": [
      "Accuracy:  0.7332482450542438\n"
     ]
    }
   ],
   "source": [
    "accuracy = clf.score(X_test, y_test)\n",
    "\n",
    "print('Accuracy: ', accuracy)"
   ]
  }
 ],
 "metadata": {
  "kernelspec": {
   "display_name": "Python 3",
   "language": "python",
   "name": "python3"
  },
  "language_info": {
   "codemirror_mode": {
    "name": "ipython",
    "version": 3
   },
   "file_extension": ".py",
   "mimetype": "text/x-python",
   "name": "python",
   "nbconvert_exporter": "python",
   "pygments_lexer": "ipython3",
   "version": "3.5.2"
  }
 },
 "nbformat": 4,
 "nbformat_minor": 2
}
