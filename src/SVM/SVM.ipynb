{
 "cells": [
  {
   "cell_type": "markdown",
   "metadata": {},
   "source": [
    "# SVM"
   ]
  },
  {
   "cell_type": "markdown",
   "metadata": {},
   "source": [
    "In machine learning, support vector machines (SVM) are supervised learning models with associated learning algorithms that analyze data used for classification and regression analysis. Given a set of training examples, each marked as belonging to one or the other of two categories, an SVM training algorithm builds a model that assigns new examples to one category or the other, making it a non-probabilistic binary linear classifier. "
   ]
  },
  {
   "cell_type": "markdown",
   "metadata": {},
   "source": [
    "<b> Imports"
   ]
  },
  {
   "cell_type": "code",
   "execution_count": 1,
   "metadata": {},
   "outputs": [
    {
     "name": "stderr",
     "output_type": "stream",
     "text": [
      "/usr/local/lib/python3.5/dist-packages/sklearn/cross_validation.py:41: DeprecationWarning: This module was deprecated in version 0.18 in favor of the model_selection module into which all the refactored classes and functions are moved. Also note that the interface of the new CV iterators are different from that of this module. This module will be removed in 0.20.\n",
      "  \"This module will be removed in 0.20.\", DeprecationWarning)\n"
     ]
    }
   ],
   "source": [
    "from sklearn import preprocessing, cross_validation, neighbors, svm\n",
    "from os import listdir\n",
    "from os.path import isfile, join\n",
    "import numpy as np\n",
    "import geopandas as gpd\n",
    "import pandas as pd\n",
    "import requests\n",
    "import io"
   ]
  },
  {
   "cell_type": "markdown",
   "metadata": {},
   "source": [
    "<b> Set Paths"
   ]
  },
  {
   "cell_type": "code",
   "execution_count": 2,
   "metadata": {},
   "outputs": [],
   "source": [
    "falsospath = \"/home/sansigolo/Documents/git/CAP-240-394/src/SVM/FALSOS_221_067-09-26/\"\n",
    "\n",
    "queimadaspath = \"/home/sansigolo/Documents/git/CAP-240-394/src/SVM/QUEIMADAS_221_067-09-26/\""
   ]
  },
  {
   "cell_type": "markdown",
   "metadata": {},
   "source": [
    "<b> Get Filenames"
   ]
  },
  {
   "cell_type": "code",
   "execution_count": 3,
   "metadata": {},
   "outputs": [],
   "source": [
    "falsosfilenames = [y for y in listdir(falsospath) for ending in ['dbf', 'shp', 'prj', 'shx'] if y.endswith(ending)] \n",
    "\n",
    "queimadasfilenames = [y for y in listdir(queimadaspath) for ending in ['dbf', 'shp', 'prj', 'shx'] if y.endswith(ending)] "
   ]
  },
  {
   "cell_type": "markdown",
   "metadata": {},
   "source": [
    "<b> Print Filenames"
   ]
  },
  {
   "cell_type": "code",
   "execution_count": 4,
   "metadata": {},
   "outputs": [
    {
     "name": "stdout",
     "output_type": "stream",
     "text": [
      "['FALSOS_221_067-09-26.prj', 'FALSOS_221_067-09-26.shx', 'FALSOS_221_067-09-26.dbf', 'FALSOS_221_067-09-26.shp']\n",
      "\n",
      "['QUEIMADAS_221_067-09-26.shx', 'QUEIMADAS_221_067-09-26.dbf', 'QUEIMADAS_221_067-09-26.prj', 'QUEIMADAS_221_067-09-26.shp']\n"
     ]
    }
   ],
   "source": [
    "print(falsosfilenames)\n",
    "print(\"\")\n",
    "print(queimadasfilenames)"
   ]
  },
  {
   "cell_type": "markdown",
   "metadata": {},
   "source": [
    "<b> Set the Shapefile"
   ]
  },
  {
   "cell_type": "code",
   "execution_count": 5,
   "metadata": {},
   "outputs": [],
   "source": [
    "f_dbf, f_shp, f_prj,  f_shx = [falsosfilename for falsosfilename in falsosfilenames]\n",
    "\n",
    "falsos = gpd.read_file(falsospath+f_shp)"
   ]
  },
  {
   "cell_type": "markdown",
   "metadata": {},
   "source": [
    "<b> Set the Shapefile"
   ]
  },
  {
   "cell_type": "code",
   "execution_count": 6,
   "metadata": {},
   "outputs": [],
   "source": [
    "q_dbf, q_shp, q_prj,  q_shx = [queimadasfilename for queimadasfilename in queimadasfilenames]\n",
    "\n",
    "queimadas = gpd.read_file(queimadaspath+q_shp)"
   ]
  },
  {
   "cell_type": "markdown",
   "metadata": {},
   "source": [
    "<b> Print Shape"
   ]
  },
  {
   "cell_type": "code",
   "execution_count": 7,
   "metadata": {},
   "outputs": [
    {
     "name": "stdout",
     "output_type": "stream",
     "text": [
      "\n",
      "Falsos Shape: (53, 36)\n",
      "\n",
      "Queimadas Shape: (1213, 36)\n"
     ]
    }
   ],
   "source": [
    "print(\"\\nFalsos Shape: {}\".format(falsos.shape)+\"\\n\")\n",
    "\n",
    "print(\"Queimadas Shape: {}\".format(queimadas.shape))"
   ]
  },
  {
   "cell_type": "markdown",
   "metadata": {},
   "source": [
    "<b> Create Dataframe"
   ]
  },
  {
   "cell_type": "code",
   "execution_count": 8,
   "metadata": {},
   "outputs": [],
   "source": [
    "df = pd.concat([falsos, queimadas], ignore_index=True)\n",
    "df.replace('?', -99999, inplace=True)"
   ]
  },
  {
   "cell_type": "markdown",
   "metadata": {},
   "source": [
    "<b> Print Dataframe tail"
   ]
  },
  {
   "cell_type": "code",
   "execution_count": 9,
   "metadata": {},
   "outputs": [
    {
     "name": "stdout",
     "output_type": "stream",
     "text": [
      "\n",
      "Dataframe tail:\n",
      "            id  cod_sat                cena_id                      nome_arq  \\\n",
      "1261  7097709        8  LC82210672017189LGN00  LC82210672017189LGN00.tar.gz   \n",
      "1262  7097583        8  LC82210672017189LGN00  LC82210672017189LGN00.tar.gz   \n",
      "1263  7098332        8  LC82210672017189LGN00  LC82210672017189LGN00.tar.gz   \n",
      "1264  7097780        8  LC82210672017189LGN00  LC82210672017189LGN00.tar.gz   \n",
      "1265  7097382        8  LC82210672017189LGN00  LC82210672017189LGN00.tar.gz   \n",
      "\n",
      "                     data_pas  orb_pto    area_ha  perim versao  \\\n",
      "1261  2017/07/08 00:00:00.000  221_067   2.706982   1140    3.3   \n",
      "1262  2017/07/08 00:00:00.000  221_067   1.985133    840    3.3   \n",
      "1263  2017/07/08 00:00:00.000  221_067  24.708948   7440    3.3   \n",
      "1264  2017/07/08 00:00:00.000  221_067   0.992043    480    3.3   \n",
      "1265  2017/07/08 00:00:00.000  221_067   0.541506    360    3.3   \n",
      "\n",
      "                         n_arq_ant  \\\n",
      "1261  LC82210672017173LGN00.tar.gz   \n",
      "1262  LC82210672017173LGN00.tar.gz   \n",
      "1263  LC82210672017173LGN00.tar.gz   \n",
      "1264  LC82210672017173LGN00.tar.gz   \n",
      "1265  LC82210672017173LGN00.tar.gz   \n",
      "\n",
      "                            ...                          data_proc  maquina  \\\n",
      "1261                        ...                               None     None   \n",
      "1262                        ...                               None     None   \n",
      "1263                        ...                               None     None   \n",
      "1264                        ...                               None     None   \n",
      "1265                        ...                               None     None   \n",
      "\n",
      "      proc_id  valida_web user_id  data_valid  data_visua  visualizac  \\\n",
      "1261     None        None     NaN        None        None         NaN   \n",
      "1262     None        None     NaN        None        None         NaN   \n",
      "1263     None        None     NaN        None        None         NaN   \n",
      "1264     None        None     NaN        None        None         NaN   \n",
      "1265     None        None     NaN        None        None         NaN   \n",
      "\n",
      "      visualizad                                           geometry  \n",
      "1261           f  POLYGON ((-46.0524253691188 -10.7825929523016,...  \n",
      "1262           f  POLYGON ((-46.0566282871277 -10.7288649482785,...  \n",
      "1263           f  POLYGON ((-46.04515250668121 -10.7424678296044...  \n",
      "1264           f  POLYGON ((-46.9771864343078 -10.2251402153923,...  \n",
      "1265           f  POLYGON ((-47.1247830448965 -9.8966496774886, ...  \n",
      "\n",
      "[5 rows x 36 columns]\n"
     ]
    }
   ],
   "source": [
    "print(\"\\nDataframe tail:\\n\", df.tail())"
   ]
  },
  {
   "cell_type": "markdown",
   "metadata": {},
   "source": [
    "<b> Drop the columns"
   ]
  },
  {
   "cell_type": "code",
   "execution_count": 10,
   "metadata": {},
   "outputs": [],
   "source": [
    "df.drop(['id','cod_sat','cena_id', 'nome_arq', 'data_pas', 'orb_pto', 'versao', 'n_arq_ant', 'medianb1', 'data_inser', 'fid_1', 'data_proc','maquina', 'proc_id','valida_web', 'user_id', 'data_valid', 'data_visua', 'visualizac', 'visualizad', 'geometry'], 1, inplace=True)"
   ]
  },
  {
   "cell_type": "markdown",
   "metadata": {},
   "source": [
    "<b> Print Dataframe tail"
   ]
  },
  {
   "cell_type": "code",
   "execution_count": 11,
   "metadata": {},
   "outputs": [
    {
     "name": "stdout",
     "output_type": "stream",
     "text": [
      "\n",
      "Dataframe tail:\n",
      "         area_ha  perim      ndvi      nbrl  dif_ndvi  dif_dnbrl  medianb2  \\\n",
      "1261   2.706982   1140  0.285590  0.045397  0.205554   0.279453  0.102393   \n",
      "1262   1.985133    840  0.263258  0.050362  0.192967   0.233434  0.113864   \n",
      "1263  24.708948   7440  0.230180  0.007113  0.236502   0.286259  0.103720   \n",
      "1264   0.992043    480  0.321351  0.145861  0.211881   0.221723  0.097045   \n",
      "1265   0.541506    360  0.321921  0.137134  0.165568   0.175336  0.094391   \n",
      "\n",
      "      medianb3  medianb4  medianb5  medianb6  medianb7  verifica  lim_ndvi  \\\n",
      "1261  0.090342  0.097874  0.179868  0.213479  0.159705         1       0.2   \n",
      "1262  0.103291  0.113283  0.189169  0.224646  0.173663         1       0.2   \n",
      "1263  0.091710  0.098897  0.164570  0.193979  0.155794         1       0.2   \n",
      "1264  0.078498  0.077227  0.142292  0.145304  0.104038         1       0.2   \n",
      "1265  0.071837  0.065065  0.125804  0.130517  0.097017         1       0.2   \n",
      "\n",
      "      lim_nbrl  \n",
      "1261       0.5  \n",
      "1262       0.5  \n",
      "1263       0.5  \n",
      "1264       0.5  \n",
      "1265       0.5  \n"
     ]
    }
   ],
   "source": [
    "print(\"\\nDataframe tail:\\n\", df.tail())"
   ]
  },
  {
   "cell_type": "markdown",
   "metadata": {},
   "source": [
    "<b> Set X and y"
   ]
  },
  {
   "cell_type": "code",
   "execution_count": 12,
   "metadata": {},
   "outputs": [],
   "source": [
    "X = np.array(df.drop(['verifica'],1))\n",
    "y = np.array(df['verifica'])"
   ]
  },
  {
   "cell_type": "markdown",
   "metadata": {},
   "source": [
    "<b> Make the Train and Test"
   ]
  },
  {
   "cell_type": "code",
   "execution_count": 13,
   "metadata": {},
   "outputs": [],
   "source": [
    "X_train, X_test, y_train, y_test = cross_validation.train_test_split(X,y,test_size=0.2)"
   ]
  },
  {
   "cell_type": "markdown",
   "metadata": {},
   "source": [
    "<b> Run the SVM"
   ]
  },
  {
   "cell_type": "code",
   "execution_count": 14,
   "metadata": {},
   "outputs": [
    {
     "data": {
      "text/plain": [
       "SVC(C=1.0, cache_size=200, class_weight=None, coef0=0.0,\n",
       "  decision_function_shape='ovr', degree=3, gamma='auto', kernel='rbf',\n",
       "  max_iter=-1, probability=False, random_state=None, shrinking=True,\n",
       "  tol=0.001, verbose=False)"
      ]
     },
     "execution_count": 14,
     "metadata": {},
     "output_type": "execute_result"
    }
   ],
   "source": [
    "clf = svm.SVC()\n",
    "clf.fit(X_train, y_train)"
   ]
  },
  {
   "cell_type": "markdown",
   "metadata": {},
   "source": [
    "<b>Print Accuracy"
   ]
  },
  {
   "cell_type": "code",
   "execution_count": 15,
   "metadata": {},
   "outputs": [
    {
     "name": "stdout",
     "output_type": "stream",
     "text": [
      "Accuracy:  0.968503937007874\n"
     ]
    }
   ],
   "source": [
    "accuracy = clf.score(X_test, y_test)\n",
    "\n",
    "print('Accuracy: ', accuracy)"
   ]
  }
 ],
 "metadata": {
  "kernelspec": {
   "display_name": "Python 3",
   "language": "python",
   "name": "python3"
  },
  "language_info": {
   "codemirror_mode": {
    "name": "ipython",
    "version": 3
   },
   "file_extension": ".py",
   "mimetype": "text/x-python",
   "name": "python",
   "nbconvert_exporter": "python",
   "pygments_lexer": "ipython3",
   "version": "3.5.2"
  }
 },
 "nbformat": 4,
 "nbformat_minor": 2
}
