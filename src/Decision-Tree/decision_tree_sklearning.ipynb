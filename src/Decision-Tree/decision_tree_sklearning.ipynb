{
 "cells": [
  {
   "cell_type": "markdown",
   "metadata": {},
   "source": [
    "# Árvore de Decisão"
   ]
  },
  {
   "cell_type": "markdown",
   "metadata": {},
   "source": [
    "A árvore de decisão é uma estrutura de dados que pode ser representada como um conjunto de regras. As árvores classificam os dados percorrendo da raiz até chegar ao nó folha, este que representa as classes do conjunto. Ou seja, a árvore possui duas estruturas de nó: \n",
    "\n",
    "(a) Nó folha: Corresponde a uma classe. \n",
    "(b) Nó não-folha: Contém um teste de algum atributo dos dados. Suas ramificações correspondem a um dos valores possíveis para esse atributo.\n",
    "\n",
    "A classificação é realizada começando no nó raiz, é feito a aplicação dos teste, de forma a averiguar qual ramificação será seguida: a sub-árvore à esquerda ou sub-árvore à direita. É executada a caminhada na árvore, até que um nó folha seja encontrado."
   ]
  },
  {
   "cell_type": "markdown",
   "metadata": {},
   "source": [
    "<b> Importe"
   ]
  },
  {
   "cell_type": "code",
   "execution_count": 37,
   "metadata": {},
   "outputs": [],
   "source": [
    "import os\n",
    "import numpy as np\n",
    "import geopandas as gpd\n",
    "import pandas as pd\n",
    "from sklearn import tree\n",
    "from sklearn import model_selection\n",
    "import graphviz "
   ]
  },
  {
   "cell_type": "markdown",
   "metadata": {},
   "source": [
    "<b> Define o Dataframe"
   ]
  },
  {
   "cell_type": "code",
   "execution_count": 38,
   "metadata": {},
   "outputs": [],
   "source": [
    "df = gpd.read_file(\"shapely_new/221_067_2017_new.shp\")"
   ]
  },
  {
   "cell_type": "markdown",
   "metadata": {},
   "source": [
    "<b> Imprime Dataframe"
   ]
  },
  {
   "cell_type": "code",
   "execution_count": 39,
   "metadata": {},
   "outputs": [
    {
     "data": {
      "text/html": [
       "<div>\n",
       "<style scoped>\n",
       "    .dataframe tbody tr th:only-of-type {\n",
       "        vertical-align: middle;\n",
       "    }\n",
       "\n",
       "    .dataframe tbody tr th {\n",
       "        vertical-align: top;\n",
       "    }\n",
       "\n",
       "    .dataframe thead th {\n",
       "        text-align: right;\n",
       "    }\n",
       "</style>\n",
       "<table border=\"1\" class=\"dataframe\">\n",
       "  <thead>\n",
       "    <tr style=\"text-align: right;\">\n",
       "      <th></th>\n",
       "      <th>id</th>\n",
       "      <th>cod_sat</th>\n",
       "      <th>cena_id</th>\n",
       "      <th>nome_arq</th>\n",
       "      <th>orb_pto</th>\n",
       "      <th>area_ha</th>\n",
       "      <th>perim</th>\n",
       "      <th>n_arq_ant</th>\n",
       "      <th>ndvi</th>\n",
       "      <th>nbrl</th>\n",
       "      <th>...</th>\n",
       "      <th>focos</th>\n",
       "      <th>data_atual</th>\n",
       "      <th>data_anter</th>\n",
       "      <th>mirb</th>\n",
       "      <th>nbr</th>\n",
       "      <th>nbr2</th>\n",
       "      <th>bai</th>\n",
       "      <th>baim</th>\n",
       "      <th>ndwi</th>\n",
       "      <th>geometry</th>\n",
       "    </tr>\n",
       "  </thead>\n",
       "  <tbody>\n",
       "    <tr>\n",
       "      <th>0</th>\n",
       "      <td>23946449</td>\n",
       "      <td>8</td>\n",
       "      <td>LC82210672017125LGN00</td>\n",
       "      <td>LC82210672017125LGN00.tar.gz</td>\n",
       "      <td>221_067</td>\n",
       "      <td>12.968645</td>\n",
       "      <td>2639</td>\n",
       "      <td>LC82210672017109LGN00.tar.bz</td>\n",
       "      <td>0.211523</td>\n",
       "      <td>-0.044128</td>\n",
       "      <td>...</td>\n",
       "      <td>2</td>\n",
       "      <td>2017-05-05</td>\n",
       "      <td>2017-04-19 00:00:00</td>\n",
       "      <td>-2.529071</td>\n",
       "      <td>-0.039766</td>\n",
       "      <td>0.107150</td>\n",
       "      <td>33.485539</td>\n",
       "      <td>23.624772</td>\n",
       "      <td>-0.146292</td>\n",
       "      <td>POLYGON ((-46.9715795250224 -10.3363584942161,...</td>\n",
       "    </tr>\n",
       "    <tr>\n",
       "      <th>1</th>\n",
       "      <td>23946450</td>\n",
       "      <td>8</td>\n",
       "      <td>LC82210672017125LGN00</td>\n",
       "      <td>LC82210672017125LGN00.tar.gz</td>\n",
       "      <td>221_067</td>\n",
       "      <td>1.263320</td>\n",
       "      <td>600</td>\n",
       "      <td>LC82210672017109LGN00.tar.bz</td>\n",
       "      <td>0.042114</td>\n",
       "      <td>-0.027508</td>\n",
       "      <td>...</td>\n",
       "      <td>0</td>\n",
       "      <td>2017-05-05</td>\n",
       "      <td>2017-04-19 00:00:00</td>\n",
       "      <td>-2.018163</td>\n",
       "      <td>-0.031193</td>\n",
       "      <td>0.029106</td>\n",
       "      <td>267.023785</td>\n",
       "      <td>44.180948</td>\n",
       "      <td>-0.060244</td>\n",
       "      <td>POLYGON ((-46.358025045795 -10.3373571795547, ...</td>\n",
       "    </tr>\n",
       "    <tr>\n",
       "      <th>2</th>\n",
       "      <td>23946451</td>\n",
       "      <td>8</td>\n",
       "      <td>LC82210672017125LGN00</td>\n",
       "      <td>LC82210672017125LGN00.tar.gz</td>\n",
       "      <td>221_067</td>\n",
       "      <td>7.568930</td>\n",
       "      <td>2340</td>\n",
       "      <td>LC82210672017109LGN00.tar.bz</td>\n",
       "      <td>0.306289</td>\n",
       "      <td>-0.003284</td>\n",
       "      <td>...</td>\n",
       "      <td>1</td>\n",
       "      <td>2017-05-05</td>\n",
       "      <td>2017-04-19 00:00:00</td>\n",
       "      <td>-2.318851</td>\n",
       "      <td>-0.055296</td>\n",
       "      <td>0.096054</td>\n",
       "      <td>115.204774</td>\n",
       "      <td>96.589363</td>\n",
       "      <td>-0.150550</td>\n",
       "      <td>POLYGON ((-46.9860921817999 -10.3359982294198,...</td>\n",
       "    </tr>\n",
       "    <tr>\n",
       "      <th>3</th>\n",
       "      <td>23946452</td>\n",
       "      <td>8</td>\n",
       "      <td>LC82210672017125LGN00</td>\n",
       "      <td>LC82210672017125LGN00.tar.gz</td>\n",
       "      <td>221_067</td>\n",
       "      <td>1.804195</td>\n",
       "      <td>660</td>\n",
       "      <td>LC82210672017109LGN00.tar.bz</td>\n",
       "      <td>0.256839</td>\n",
       "      <td>-0.017937</td>\n",
       "      <td>...</td>\n",
       "      <td>0</td>\n",
       "      <td>2017-05-05</td>\n",
       "      <td>2017-04-19 00:00:00</td>\n",
       "      <td>-3.017878</td>\n",
       "      <td>-0.018472</td>\n",
       "      <td>0.178214</td>\n",
       "      <td>28.506415</td>\n",
       "      <td>15.967674</td>\n",
       "      <td>-0.196041</td>\n",
       "      <td>POLYGON ((-46.0128759745859 -10.3521908768478,...</td>\n",
       "    </tr>\n",
       "    <tr>\n",
       "      <th>4</th>\n",
       "      <td>23946453</td>\n",
       "      <td>8</td>\n",
       "      <td>LC82210672017125LGN00</td>\n",
       "      <td>LC82210672017125LGN00.tar.gz</td>\n",
       "      <td>221_067</td>\n",
       "      <td>2.886433</td>\n",
       "      <td>1140</td>\n",
       "      <td>LC82210672017109LGN00.tar.bz</td>\n",
       "      <td>0.240240</td>\n",
       "      <td>0.000871</td>\n",
       "      <td>...</td>\n",
       "      <td>2</td>\n",
       "      <td>2017-05-05</td>\n",
       "      <td>2017-04-19 00:00:00</td>\n",
       "      <td>-2.498149</td>\n",
       "      <td>0.014029</td>\n",
       "      <td>0.125918</td>\n",
       "      <td>53.876698</td>\n",
       "      <td>43.300922</td>\n",
       "      <td>-0.112087</td>\n",
       "      <td>POLYGON ((-46.3574643464459 -10.3343756813685,...</td>\n",
       "    </tr>\n",
       "  </tbody>\n",
       "</table>\n",
       "<p>5 rows × 31 columns</p>\n",
       "</div>"
      ],
      "text/plain": [
       "         id  cod_sat                cena_id                      nome_arq  \\\n",
       "0  23946449        8  LC82210672017125LGN00  LC82210672017125LGN00.tar.gz   \n",
       "1  23946450        8  LC82210672017125LGN00  LC82210672017125LGN00.tar.gz   \n",
       "2  23946451        8  LC82210672017125LGN00  LC82210672017125LGN00.tar.gz   \n",
       "3  23946452        8  LC82210672017125LGN00  LC82210672017125LGN00.tar.gz   \n",
       "4  23946453        8  LC82210672017125LGN00  LC82210672017125LGN00.tar.gz   \n",
       "\n",
       "   orb_pto    area_ha  perim                     n_arq_ant      ndvi  \\\n",
       "0  221_067  12.968645   2639  LC82210672017109LGN00.tar.bz  0.211523   \n",
       "1  221_067   1.263320    600  LC82210672017109LGN00.tar.bz  0.042114   \n",
       "2  221_067   7.568930   2340  LC82210672017109LGN00.tar.bz  0.306289   \n",
       "3  221_067   1.804195    660  LC82210672017109LGN00.tar.bz  0.256839   \n",
       "4  221_067   2.886433   1140  LC82210672017109LGN00.tar.bz  0.240240   \n",
       "\n",
       "       nbrl                        ...                          focos  \\\n",
       "0 -0.044128                        ...                              2   \n",
       "1 -0.027508                        ...                              0   \n",
       "2 -0.003284                        ...                              1   \n",
       "3 -0.017937                        ...                              0   \n",
       "4  0.000871                        ...                              2   \n",
       "\n",
       "   data_atual           data_anter      mirb       nbr      nbr2         bai  \\\n",
       "0  2017-05-05  2017-04-19 00:00:00 -2.529071 -0.039766  0.107150   33.485539   \n",
       "1  2017-05-05  2017-04-19 00:00:00 -2.018163 -0.031193  0.029106  267.023785   \n",
       "2  2017-05-05  2017-04-19 00:00:00 -2.318851 -0.055296  0.096054  115.204774   \n",
       "3  2017-05-05  2017-04-19 00:00:00 -3.017878 -0.018472  0.178214   28.506415   \n",
       "4  2017-05-05  2017-04-19 00:00:00 -2.498149  0.014029  0.125918   53.876698   \n",
       "\n",
       "        baim      ndwi                                           geometry  \n",
       "0  23.624772 -0.146292  POLYGON ((-46.9715795250224 -10.3363584942161,...  \n",
       "1  44.180948 -0.060244  POLYGON ((-46.358025045795 -10.3373571795547, ...  \n",
       "2  96.589363 -0.150550  POLYGON ((-46.9860921817999 -10.3359982294198,...  \n",
       "3  15.967674 -0.196041  POLYGON ((-46.0128759745859 -10.3521908768478,...  \n",
       "4  43.300922 -0.112087  POLYGON ((-46.3574643464459 -10.3343756813685,...  \n",
       "\n",
       "[5 rows x 31 columns]"
      ]
     },
     "execution_count": 39,
     "metadata": {},
     "output_type": "execute_result"
    }
   ],
   "source": [
    "df.head()"
   ]
  },
  {
   "cell_type": "markdown",
   "metadata": {},
   "source": [
    "<b> Define X e y"
   ]
  },
  {
   "cell_type": "code",
   "execution_count": 40,
   "metadata": {},
   "outputs": [],
   "source": [
    "x = np.array(df[['nbrl', 'dif_ndvi', 'nbr', 'bai', 'ndwi', 'medianb2', 'medianb3', 'medianb4', 'medianb5']])\n",
    "y = np.array(df[['verifica']])"
   ]
  },
  {
   "cell_type": "markdown",
   "metadata": {},
   "source": [
    "<b> Define a configuração da arvore"
   ]
  },
  {
   "cell_type": "code",
   "execution_count": 41,
   "metadata": {},
   "outputs": [],
   "source": [
    "clf = tree.DecisionTreeClassifier(max_depth = 10, max_leaf_nodes = 10)"
   ]
  },
  {
   "cell_type": "markdown",
   "metadata": {},
   "source": [
    "<b> Reliza o fit"
   ]
  },
  {
   "cell_type": "code",
   "execution_count": 42,
   "metadata": {},
   "outputs": [],
   "source": [
    "clf = clf.fit(x, y)"
   ]
  },
  {
   "cell_type": "markdown",
   "metadata": {},
   "source": [
    "<b> Define a acurácia"
   ]
  },
  {
   "cell_type": "code",
   "execution_count": 43,
   "metadata": {},
   "outputs": [
    {
     "name": "stdout",
     "output_type": "stream",
     "text": [
      "0.7305041480536055 0.08904181719784843\n"
     ]
    }
   ],
   "source": [
    "kfold = model_selection.KFold(n_splits=10, random_state=7)\n",
    "scoring = 'accuracy'\n",
    "cv_results = model_selection.cross_val_score(clf, x, y, cv=kfold, scoring=scoring)\n",
    "print(cv_results.mean(), cv_results.std())"
   ]
  },
  {
   "cell_type": "markdown",
   "metadata": {},
   "source": [
    "<b> Define o grafico"
   ]
  },
  {
   "cell_type": "code",
   "execution_count": 44,
   "metadata": {},
   "outputs": [],
   "source": [
    "dot_data = tree.export_graphviz(clf, out_file='tree.dot', \n",
    "                         feature_names=['nbrl', 'dif_ndvi', 'nbr', 'bai', 'ndwi', 'medianb2', 'medianb3', 'medianb4', 'medianb5'],  \n",
    "                         #class_names=iris.target_names,  \n",
    "                         filled=True, rounded=True,  \n",
    "                         special_characters=True)"
   ]
  },
  {
   "cell_type": "code",
   "execution_count": 45,
   "metadata": {},
   "outputs": [
    {
     "data": {
      "text/plain": [
       "0"
      ]
     },
     "execution_count": 45,
     "metadata": {},
     "output_type": "execute_result"
    }
   ],
   "source": [
    "os.system(\"dot -Tpng tree.dot -o tree.png\")"
   ]
  },
  {
   "cell_type": "markdown",
   "metadata": {},
   "source": [
    "<b> Tree\n",
    "<img src=\"img/tree.png\" alt=\"drawing\" width=\"700\"/>"
   ]
  }
 ],
 "metadata": {
  "kernelspec": {
   "display_name": "Python 3",
   "language": "python",
   "name": "python3"
  },
  "language_info": {
   "codemirror_mode": {
    "name": "ipython",
    "version": 3
   },
   "file_extension": ".py",
   "mimetype": "text/x-python",
   "name": "python",
   "nbconvert_exporter": "python",
   "pygments_lexer": "ipython3",
   "version": "3.5.2"
  }
 },
 "nbformat": 4,
 "nbformat_minor": 2
}
