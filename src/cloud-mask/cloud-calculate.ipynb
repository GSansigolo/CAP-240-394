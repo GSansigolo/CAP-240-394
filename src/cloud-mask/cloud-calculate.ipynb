{
 "cells": [
  {
   "cell_type": "markdown",
   "metadata": {},
   "source": [
    "# Cloud-Calculate"
   ]
  },
  {
   "cell_type": "markdown",
   "metadata": {},
   "source": [
    "Calculate the Accuracy of Unsupervised Machine Learning Algorithm to create a Cloud-Mask using Landsat 8 Satellite images."
   ]
  },
  {
   "cell_type": "markdown",
   "metadata": {},
   "source": [
    "<b>Imports"
   ]
  },
  {
   "cell_type": "code",
   "execution_count": 1,
   "metadata": {},
   "outputs": [],
   "source": [
    "from osgeo import gdal\n",
    "import numpy as np"
   ]
  },
  {
   "cell_type": "markdown",
   "metadata": {},
   "source": [
    "<b>Get the Tifs "
   ]
  },
  {
   "cell_type": "code",
   "execution_count": 2,
   "metadata": {},
   "outputs": [
    {
     "name": "stdout",
     "output_type": "stream",
     "text": [
      "Arquivos aberto com sucesso!\n"
     ]
    }
   ],
   "source": [
    "try:\n",
    "\tnuvem1 = gdal.Open(\"data/LC08_L1TP_221067_20170926_20171013_01_T1_CLOUD.TIF\")\n",
    "\tnuvem2 = gdal.Open(\"data/221_067_2017-01-13_nuvem.tif\")\n",
    "\tprint (\"Arquivos aberto com sucesso!\")\n",
    "except:\n",
    "\tprint(\"Erro na abertura dos arquivo!\")\n",
    "\texit()"
   ]
  },
  {
   "cell_type": "markdown",
   "metadata": {},
   "source": [
    "<b>Read Raster in Numpy Array "
   ]
  },
  {
   "cell_type": "code",
   "execution_count": 3,
   "metadata": {},
   "outputs": [],
   "source": [
    "mascara1 = nuvem1.GetRasterBand(1).ReadAsArray().astype(np.int8)\n",
    "mascara2 = nuvem2.GetRasterBand(1).ReadAsArray().astype(np.float32)"
   ]
  },
  {
   "cell_type": "markdown",
   "metadata": {},
   "source": [
    "<b>Set the Variables"
   ]
  },
  {
   "cell_type": "code",
   "execution_count": 4,
   "metadata": {},
   "outputs": [],
   "source": [
    "nuvem2 = np.sum(mascara2==1)\n",
    "limpa1 = np.sum(mascara1==0)\n",
    "\n",
    "tamanho_imagem1 = mascara1.shape[0] * mascara1.shape[1]\n",
    "tamanho_imagem2 = mascara2.shape[0] * mascara2.shape[1]\n",
    "\n",
    "cloud_mask = (limpa1 * 100) / tamanho_imagem1\n",
    "nuvem = (100-(nuvem2 * 100) / tamanho_imagem2)"
   ]
  },
  {
   "cell_type": "markdown",
   "metadata": {},
   "source": [
    "<b>Print Results"
   ]
  },
  {
   "cell_type": "code",
   "execution_count": 5,
   "metadata": {},
   "outputs": [
    {
     "name": "stdout",
     "output_type": "stream",
     "text": [
      "\n",
      "Porcentagem Nuvem (Mascara): 18.25\n",
      "Porcentagem Nuvem (Exemplo): 21.62\n",
      "\n",
      "Porcentagem Não-Nuvem (Mascara): 81.75\n",
      "Porcentagem Não-Nuvem (Exemplo): 78.38\n"
     ]
    }
   ],
   "source": [
    "print(\"\")\n",
    "\n",
    "print(\"Porcentagem Nuvem (Mascara): %.2f\" %(100-cloud_mask) )\n",
    "print(\"Porcentagem Nuvem (Exemplo): %.2f\" %(100-nuvem) )\n",
    "\n",
    "\n",
    "print(\"\")\n",
    "\n",
    "print(\"Porcentagem Não-Nuvem (Mascara): %.2f\" %cloud_mask)\n",
    "print(\"Porcentagem Não-Nuvem (Exemplo): %.2f\" %nuvem)"
   ]
  },
  {
   "cell_type": "markdown",
   "metadata": {},
   "source": [
    "<b>Print Accuracy"
   ]
  },
  {
   "cell_type": "code",
   "execution_count": 6,
   "metadata": {},
   "outputs": [
    {
     "name": "stdout",
     "output_type": "stream",
     "text": [
      "Porcentagem de Acerto: 95.88\n"
     ]
    }
   ],
   "source": [
    "print(\"Porcentagem de Acerto: %.2f\" %(100-((cloud_mask-nuvem)/cloud_mask)*100) )"
   ]
  }
 ],
 "metadata": {
  "kernelspec": {
   "display_name": "Python 3",
   "language": "python",
   "name": "python3"
  },
  "language_info": {
   "codemirror_mode": {
    "name": "ipython",
    "version": 3
   },
   "file_extension": ".py",
   "mimetype": "text/x-python",
   "name": "python",
   "nbconvert_exporter": "python",
   "pygments_lexer": "ipython3",
   "version": "3.5.2"
  }
 },
 "nbformat": 4,
 "nbformat_minor": 2
}
