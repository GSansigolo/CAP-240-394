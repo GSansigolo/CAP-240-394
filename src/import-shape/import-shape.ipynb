{
 "cells": [
  {
   "cell_type": "markdown",
   "metadata": {},
   "source": [
    "Código para importação dos shapes"
   ]
  },
  {
   "cell_type": "markdown",
   "metadata": {},
   "source": [
    "Imports"
   ]
  },
  {
   "cell_type": "code",
   "execution_count": 1,
   "metadata": {},
   "outputs": [],
   "source": [
    "import geopandas as gpd\n",
    "import pandas as pd\n",
    "import requests\n",
    "import io\n",
    "from os import listdir\n",
    "from os.path import isfile, join"
   ]
  },
  {
   "cell_type": "markdown",
   "metadata": {},
   "source": [
    "Definido o caminho para os dados shapes"
   ]
  },
  {
   "cell_type": "code",
   "execution_count": 2,
   "metadata": {},
   "outputs": [],
   "source": [
    "paths = ['2017-05-05', '2017-06-22', '2017-07-24', '2017-08-09', '2017-09-10', '2017-09-26']\n"
   ]
  },
  {
   "cell_type": "markdown",
   "metadata": {},
   "source": [
    "Definito o dataframe via pandas"
   ]
  },
  {
   "cell_type": "code",
   "execution_count": 3,
   "metadata": {},
   "outputs": [],
   "source": [
    "df = pd.DataFrame(columns=['id', 'nome_arq', 'data_pas', 'orb_pto', 'area_ha', 'perim', 'versao', 'n_arq_ant', 'fid', 'proc_id', 'maquina', 'NDVI', 'NBRL', 'DIF_NDVI', 'DIF_DNBRL', 'medianb2', 'medianb3', 'medianb4', 'medianb5', 'medianb6', 'medianb7', 'cena_id', 'cod_sat', 'ano', 'lim_ndvi', 'lim_nbrl', 'data_proc', 'geometry'])"
   ]
  },
  {
   "cell_type": "markdown",
   "metadata": {},
   "source": [
    "Para cada um dos caminhos faça, defina o endereço, leia todos os arquivos da pasta, guarde os nomes de cada um guarde no dataframe o shape usando geopandas"
   ]
  },
  {
   "cell_type": "code",
   "execution_count": 4,
   "metadata": {},
   "outputs": [
    {
     "name": "stdout",
     "output_type": "stream",
     "text": [
      "['221_067_2017-05-05_AQ30M_02_05.dbf', '221_067_2017-05-05_AQ30M_02_05.shp', '221_067_2017-05-05_AQ30M_02_05.prj', '221_067_2017-05-05_AQ30M_02_05.shx']\n",
      "\n",
      "Shape of the dataframe: (392, 28)\n",
      "\n",
      "['221_067_2017-06-22_AQ30M_02_05.dbf', '221_067_2017-06-22_AQ30M_02_05.shp', '221_067_2017-06-22_AQ30M_02_05.prj', '221_067_2017-06-22_AQ30M_02_05.shx']\n",
      "\n",
      "Shape of the dataframe: (1616, 28)\n",
      "\n",
      "['221_067_2017-07-24_AQ30M_02_05.dbf', '221_067_2017-07-24_AQ30M_02_05.shx', '221_067_2017-07-24_AQ30M_02_05.shp', '221_067_2017-07-24_AQ30M_02_05.prj']\n",
      "\n",
      "Shape of the dataframe: (2566, 28)\n",
      "\n",
      "['221_067_2017-08-09_AQ30M_02_05.shp', '221_067_2017-08-09_AQ30M_02_05.dbf', '221_067_2017-08-09_AQ30M_02_05.prj', '221_067_2017-08-09_AQ30M_02_05.shx']\n",
      "\n",
      "Shape of the dataframe: (3479, 28)\n",
      "\n",
      "['221_067_2017-09-10_AQ30M_02_05.shp', '221_067_2017-09-10_AQ30M_02_05.shx', '221_067_2017-09-10_AQ30M_02_05.prj', '221_067_2017-09-10_AQ30M_02_05.dbf']\n",
      "\n",
      "Shape of the dataframe: (4493, 28)\n",
      "\n",
      "['221_067_2017-09-26_AQ30M_02_05.prj', '221_067_2017-09-26_AQ30M_02_05.dbf', '221_067_2017-09-26_AQ30M_02_05.shp', '221_067_2017-09-26_AQ30M_02_05.shx']\n",
      "\n",
      "Shape of the dataframe: (5565, 28)\n",
      "\n"
     ]
    }
   ],
   "source": [
    "for paths in paths:\n",
    "    \n",
    "    mypath = \"/home/sansigolo/Documents/git/CAP-240-394/data-shp/\"+paths+\"/\"\n",
    "\n",
    "    filenames = [y for y in listdir(mypath) for ending in ['dbf', 'shp', 'prj', 'shx'] if y.endswith(ending)] \n",
    "   \n",
    "    print(filenames)\n",
    "\n",
    "    dbf, shp, prj,  shx = [filename for filename in filenames]\n",
    "\n",
    "    df  = df.append(gpd.read_file(mypath+shp))\n",
    "\n",
    "    print(\"\\nShape of the dataframe: {}\".format(df.shape)+\"\\n\")"
   ]
  },
  {
   "cell_type": "markdown",
   "metadata": {},
   "source": [
    "Imprime os últimos cinco itens do dataframe"
   ]
  },
  {
   "cell_type": "code",
   "execution_count": 6,
   "metadata": {},
   "outputs": [
    {
     "name": "stdout",
     "output_type": "stream",
     "text": [
      "        id                      nome_arq    data_pas  orb_pto    area_ha  \\\n",
      "1067  1067  LC82210672017269LGN00.tar.gz  2017-09-26  221_067   2.255213   \n",
      "1068  1068  LC82210672017269LGN00.tar.gz  2017-09-26  221_067   0.992573   \n",
      "1069  1069  LC82210672017269LGN00.tar.gz  2017-09-26  221_067   1.262534   \n",
      "1070  1070  LC82210672017269LGN00.tar.gz  2017-09-26  221_067  44.242770   \n",
      "1071  1071  LC82210672017269LGN00.tar.gz  2017-09-26  221_067  16.661464   \n",
      "\n",
      "     perim versao                     n_arq_ant       fid proc_id  \\\n",
      "1067   840    3.3  LC82210672017253LGN00.tar.gz  19346781    6091   \n",
      "1068   540    3.3  LC82210672017253LGN00.tar.gz  19346783    6091   \n",
      "1069   540    3.3  LC82210672017253LGN00.tar.gz  19346786    6091   \n",
      "1070  6600    3.3  LC82210672017253LGN00.tar.gz  19346788    6091   \n",
      "1071  2700    3.3  LC82210672017253LGN00.tar.gz  19346791    6091   \n",
      "\n",
      "                            ...                          medianb5  medianb6  \\\n",
      "1067                        ...                          0.169537  0.209787   \n",
      "1068                        ...                          0.235081  0.284678   \n",
      "1069                        ...                          0.202095  0.284048   \n",
      "1070                        ...                          0.182488  0.242424   \n",
      "1071                        ...                          0.286142  0.367746   \n",
      "\n",
      "      medianb7                cena_id  cod_sat   ano  lim_ndvi  lim_nbrl  \\\n",
      "1067  0.138499  LC82210672017269LGN00        8  2017       0.2       0.5   \n",
      "1068  0.219990  LC82210672017269LGN00        8  2017       0.2       0.5   \n",
      "1069  0.229101  LC82210672017269LGN00        8  2017       0.2       0.5   \n",
      "1070  0.187691  LC82210672017269LGN00        8  2017       0.2       0.5   \n",
      "1071  0.317135  LC82210672017269LGN00        8  2017       0.2       0.5   \n",
      "\n",
      "                data_proc                                           geometry  \n",
      "1067  2017-10-05 20:13:16  POLYGON ((-46.0858741649548 -9.73042652200496,...  \n",
      "1068  2017-10-05 20:13:16  POLYGON ((-46.7675912794579 -9.946994889007451...  \n",
      "1069  2017-10-05 20:13:16  POLYGON ((-46.7705916572956 -9.945351726035931...  \n",
      "1070  2017-10-05 20:13:16  POLYGON ((-46.0857560105208 -9.945562770846569...  \n",
      "1071  2017-10-05 20:13:16  POLYGON ((-46.7621041113271 -9.94404046007981,...  \n",
      "\n",
      "[5 rows x 28 columns]\n"
     ]
    }
   ],
   "source": [
    "print(df.tail())"
   ]
  }
 ],
 "metadata": {
  "kernelspec": {
   "display_name": "Python 3",
   "language": "python",
   "name": "python3"
  },
  "language_info": {
   "codemirror_mode": {
    "name": "ipython",
    "version": 3
   },
   "file_extension": ".py",
   "mimetype": "text/x-python",
   "name": "python",
   "nbconvert_exporter": "python",
   "pygments_lexer": "ipython3",
   "version": "3.5.2"
  }
 },
 "nbformat": 4,
 "nbformat_minor": 2
}
