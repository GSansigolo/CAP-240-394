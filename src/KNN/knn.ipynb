{
 "cells": [
  {
   "cell_type": "markdown",
   "metadata": {},
   "source": [
    "# KNN"
   ]
  },
  {
   "cell_type": "markdown",
   "metadata": {},
   "source": [
    "Supervised machine learning algorithm to classify burned areas using landsat 8 satellite images"
   ]
  },
  {
   "cell_type": "markdown",
   "metadata": {},
   "source": [
    "<b>Imports"
   ]
  },
  {
   "cell_type": "code",
   "execution_count": 1,
   "metadata": {},
   "outputs": [],
   "source": [
    "from osgeo import gdal\n",
    "from osgeo import osr\n",
    "import numpy as np\n",
    "from math import sqrt\n",
    "import warnings\n",
    "from collections import Counter\n",
    "from matplotlib import style"
   ]
  },
  {
   "cell_type": "markdown",
   "metadata": {},
   "source": [
    "<b> KNN Function"
   ]
  },
  {
   "cell_type": "code",
   "execution_count": 2,
   "metadata": {},
   "outputs": [],
   "source": [
    "def k_nearest_neighbors(data, predict, k=3):\n",
    "\tif len(data) >= k:\n",
    "\t\twarnings.warn('K is set to a value less the total')\n",
    "\tdistances = []\n",
    "\tfor group in data:\n",
    "\t\tfor features in data[group]:\n",
    "\t\t\teuclidean_distance = np.linalg.norm(np.array(features)-np.array(predict))\n",
    "\t\t\tdistances.append([euclidean_distance, group])\n",
    "\tvotes = [i[1] for i in sorted(distances) [:k]]\n",
    "\tvotes_result = Counter(votes).most_common(1)[0][0]\n",
    "\treturn votes_result"
   ]
  },
  {
   "cell_type": "markdown",
   "metadata": {},
   "source": [
    "<b> Open Mask and RGB Tifs"
   ]
  },
  {
   "cell_type": "markdown",
   "metadata": {},
   "source": [
    "![image](imgs/images.png)"
   ]
  },
  {
   "cell_type": "code",
   "execution_count": 3,
   "metadata": {},
   "outputs": [
    {
     "name": "stdout",
     "output_type": "stream",
     "text": [
      "Arquivos aberto com sucesso\n"
     ]
    }
   ],
   "source": [
    "try:\n",
    "\tRGB = gdal.Open(\"RGB.TIF\")\n",
    "\tMASK = gdal.Open(\"MASK.TIF\")\n",
    "\tprint (\"Arquivos aberto com sucesso\")\n",
    "except:\n",
    "\tprint(\"Erro na abertura dos arquivo\")\n",
    "\texit()"
   ]
  },
  {
   "cell_type": "markdown",
   "metadata": {},
   "source": [
    "<b> Read RGB Bands"
   ]
  },
  {
   "cell_type": "code",
   "execution_count": 4,
   "metadata": {},
   "outputs": [],
   "source": [
    "NBR2 = RGB.GetRasterBand(1).ReadAsArray()\n",
    "MIRB = RGB.GetRasterBand(2).ReadAsArray()\n",
    "NDVI = RGB.GetRasterBand(3).ReadAsArray()"
   ]
  },
  {
   "cell_type": "markdown",
   "metadata": {},
   "source": [
    "<b> Read Mask Band"
   ]
  },
  {
   "cell_type": "code",
   "execution_count": 5,
   "metadata": {},
   "outputs": [],
   "source": [
    "MASK = MASK.GetRasterBand(1).ReadAsArray()"
   ]
  },
  {
   "cell_type": "markdown",
   "metadata": {},
   "source": [
    "<b> Set Output"
   ]
  },
  {
   "cell_type": "code",
   "execution_count": 6,
   "metadata": {},
   "outputs": [],
   "source": [
    "output = np.array([])"
   ]
  },
  {
   "cell_type": "markdown",
   "metadata": {},
   "source": [
    "<b> Set Train"
   ]
  },
  {
   "cell_type": "code",
   "execution_count": 7,
   "metadata": {},
   "outputs": [],
   "source": [
    "train = {\"queimada\":[], \"nao-queimada\":[]}"
   ]
  },
  {
   "cell_type": "markdown",
   "metadata": {},
   "source": [
    "<b> For loop to Training"
   ]
  },
  {
   "cell_type": "code",
   "execution_count": 8,
   "metadata": {},
   "outputs": [],
   "source": [
    "for i in range(int(RGB.RasterXSize*0.025)):\n",
    "\tfor j in range(int(RGB.RasterYSize*0.025)):\n",
    "\t\tlast_i, last_j = i, j\n",
    "\t\tif MASK[i][j] == 2:\n",
    "\t\t\ttrain[\"queimada\"].append([NBR2[i][j], MIRB[i][j], NDVI[i][j]])\n",
    "\t\telse:\n",
    "\t\t\ttrain[\"nao-queimada\"].append([NBR2[i][j], MIRB[i][j], NDVI[i][j]])"
   ]
  },
  {
   "cell_type": "markdown",
   "metadata": {},
   "source": [
    "<b> For loop to Test "
   ]
  },
  {
   "cell_type": "code",
   "execution_count": 9,
   "metadata": {},
   "outputs": [
    {
     "name": "stdout",
     "output_type": "stream",
     "text": [
      "nao-queimada - nao-queimada\n",
      "nao-queimada - nao-queimada\n",
      "nao-queimada - nao-queimada\n",
      "nao-queimada - nao-queimada\n",
      "nao-queimada - nao-queimada\n",
      "nao-queimada - nao-queimada\n",
      "nao-queimada - nao-queimada\n",
      "nao-queimada - nao-queimada\n",
      "nao-queimada - nao-queimada\n"
     ]
    }
   ],
   "source": [
    "for i in range(int(RGB.RasterXSize*0.0005)):\n",
    "\tfor j in range(int(RGB.RasterYSize*0.0005)):\n",
    "\t\tteste = NBR2[last_i+i][last_j+j], MIRB[last_i+i][last_j+j], NDVI[last_i+i][last_j+j]\n",
    "\t\tif MASK[i][j] == 2:\n",
    "\t\t\tprint(k_nearest_neighbors(train, [teste], k=3)+' - '+'queimada')\n",
    "\t\telse:\t\t\n",
    "\t\t\tprint(k_nearest_neighbors(train, [teste], k=3)+' - '+'nao-queimada')"
   ]
  }
 ],
 "metadata": {
  "kernelspec": {
   "display_name": "Python 3",
   "language": "python",
   "name": "python3"
  },
  "language_info": {
   "codemirror_mode": {
    "name": "ipython",
    "version": 3
   },
   "file_extension": ".py",
   "mimetype": "text/x-python",
   "name": "python",
   "nbconvert_exporter": "python",
   "pygments_lexer": "ipython3",
   "version": "3.5.2"
  }
 },
 "nbformat": 4,
 "nbformat_minor": 2
}
