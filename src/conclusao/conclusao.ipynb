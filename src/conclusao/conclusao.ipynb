{
 "cells": [
  {
   "cell_type": "markdown",
   "metadata": {},
   "source": [
    "# Resultados e Conclusões"
   ]
  },
  {
   "cell_type": "markdown",
   "metadata": {},
   "source": [
    "\n",
    "Este trabalho apresentou um estudo sobre os índices espectrais aliado a aplicação de métodos de aprendizado de máquina. O intuito foi desenvolver um estudo sobre os métodos de aprendizado de máquina **SVM**, **MLP**, **Árvore de Decisão** e **K-Médias** para investigar se estas técnicas apresentam resultados similar ao método de detecção semiautomático, realizado pelos especialistas. \n",
    "\n",
    "Por se tratar de um estudo preliminar, não buscamos substituir o processo realizado atualmente. Como apresentado durante o documento, os métodos de aprendizado desenvolvidos neste trabalho apresentaram resultados preliminares satisfatórios. "
   ]
  },
  {
   "cell_type": "markdown",
   "metadata": {},
   "source": [
    "### Método com o K-Médias"
   ]
  },
  {
   "cell_type": "markdown",
   "metadata": {},
   "source": [
    "O método K-Médias apresentou bons resultados atuando como limiar, utilizando como entrada a diferença do NDVI. Porém, quando apresentado sobre um outro índice espectral, como o NBRL, o resultado ficou baixo. Na abordagem utilizando os métodos de aprendizado supervisionado, o algoritmo Máquina Vetores de Suporte e Árvore apresentou melhores resultados"
   ]
  },
  {
   "cell_type": "code",
   "execution_count": null,
   "metadata": {},
   "outputs": [],
   "source": []
  },
  {
   "cell_type": "markdown",
   "metadata": {},
   "source": [
    "Dito isso, como foi utilizado uma base de dados pequena não é possível afirmar se o NDVI é melhor que o NBRL, pois nem sempre os dados são os mesmos em cada imagem."
   ]
  },
  {
   "cell_type": "code",
   "execution_count": null,
   "metadata": {},
   "outputs": [],
   "source": []
  },
  {
   "cell_type": "markdown",
   "metadata": {},
   "source": [
    "### Método com os algoritmos de Aprendizado de Máquina"
   ]
  },
  {
   "cell_type": "markdown",
   "metadata": {},
   "source": [
    "Nos algoritmos de aprendizado de máquina foram realizados dois tipos de teste. O primeiro consistiu de treinar o algoritmo somente com os índices espectrais **` NDVI`, `DIF_NDVI`, `NBRL`, `DIF_NBRL`** e no segundo teste além de se utilizar esses índices, foram usados também as medianas das bandas [2 à 5] do arquivo shapely para o treinamento.\n",
    "\n",
    "Será mostrado logo abaixo os plots dos gráficos na respectiva ordem de cada teste."
   ]
  },
  {
   "cell_type": "markdown",
   "metadata": {},
   "source": [
    "##### - Teste 1"
   ]
  },
  {
   "cell_type": "code",
   "execution_count": 19,
   "metadata": {},
   "outputs": [],
   "source": [
    "import matplotlib.pyplot as plt"
   ]
  },
  {
   "cell_type": "markdown",
   "metadata": {},
   "source": [
    "Adicionando os resultados de cada algoritmo em um vetor.\n",
    "\n",
    "- **Obs:** A cada nova execução do algoritmo de aprendizado de máquina é obtido um resultado novo. Os resultados abaixos são de uma rodada.\n",
    "\n",
    "Em cada algoritmo foi passado como atributo de entrada os índices espectrais **` NDVI`, `DIF_NDVI`, `NBRL`, `DIF_NBRL`** que já estavam presentes no arquivo shapely."
   ]
  },
  {
   "cell_type": "code",
   "execution_count": 16,
   "metadata": {},
   "outputs": [],
   "source": [
    "mlp = [0.72176133, 0.89406509, 0.74728781, 0.68028079, 0.7019783,  0.69814933,\n",
    " 0.80216975, 0.57945118, 0.60114869, 0.63497128]\n",
    "\n",
    "tree = [0.76834716, 0.8972559,  0.7019783, 0.71410338, 0.74984046, 0.78876835,\n",
    " 0.71920868, 0.63497128, 0.64390555, 0.64518188]\n",
    "\n",
    "svm = [0.79770262, 0.82641991, 0.16847479, 0.36885769, 0.65603063, 0.71920868,\n",
    " 0.6936822,  0.71346522, 0.78430121, 0.75366943]"
   ]
  },
  {
   "cell_type": "markdown",
   "metadata": {},
   "source": [
    "Criando uma matriz com o resultado de cada algoritmo para facilitar o plot do gráfico."
   ]
  },
  {
   "cell_type": "code",
   "execution_count": 17,
   "metadata": {},
   "outputs": [],
   "source": [
    "result_spectral_index = []\n",
    "\n",
    "result_spectral_index.append(mlp)\n",
    "result_spectral_index.append(tree)\n",
    "result_spectral_index.append(svm)"
   ]
  },
  {
   "cell_type": "markdown",
   "metadata": {},
   "source": [
    "Agora é realizado o plot do gráfico `Boxplot`:"
   ]
  },
  {
   "cell_type": "code",
   "execution_count": 18,
   "metadata": {},
   "outputs": [
    {
     "data": {
      "image/png": "[encoded data removed]",
      "text/plain": [
       "<Figure size 432x288 with 1 Axes>"
      ]
     },
     "metadata": {},
     "output_type": "display_data"
    }
   ],
   "source": [
    "fig = plt.figure()\n",
    "fig.suptitle('Comparação de acurácia dos algoritmos \\n Atributos de entrada - NDVI, DIF_NDVI, NBRL, DIF_NBRL')\n",
    "ax = fig.add_subplot(111)\n",
    "plt.boxplot(result_spectral_index)\n",
    "ax.set_xticklabels([\"MLP\",\"Arvore\",\"SVM\"])\n",
    "plt.show()"
   ]
  },
  {
   "cell_type": "markdown",
   "metadata": {},
   "source": []
  },
  {
   "cell_type": "markdown",
   "metadata": {},
   "source": [
    "#### - Teste 2"
   ]
  },
  {
   "cell_type": "markdown",
   "metadata": {},
   "source": [
    "Adicionando os resultados de cada algoritmo em um vetor.\n",
    "\n",
    "- **Obs:** A cada nova execução do algoritmo de aprendizado de máquina é obtido um resultado novo. Os resultados abaixos são de uma rodada.\n",
    "\n",
    "Em cada algoritmo foi passado como atributo de entrada os índices espectrais **` NDVI`, `DIF_NDVI`, `NBRL`, `DIF_NBRL`**  além das medianas das bandas [2,5] que já estavam presentes no arquivo shapely."
   ]
  },
  {
   "cell_type": "code",
   "execution_count": 20,
   "metadata": {},
   "outputs": [],
   "source": [
    "mlp = [0.74792597, 0.9023612,  0.720485,   0.71410338, 0.73261008, 0.7626037,\n",
    " 0.76451819, 0.57115507, 0.62667518, 0.69687301]\n",
    "\n",
    "tree = [0.77791959, 0.90682833, 0.67708998, 0.7306956, 0.77600511, 0.8468411,\n",
    " 0.77026165, 0.65666879, 0.72239949, 0.720485]\n",
    "\n",
    "svm = [0.77345246, 0.82961072, 0.05615826, 0.34971283, 0.55328653, 0.77217613,\n",
    " 0.83599234, 0.83535418, 0.84109764, 0.77919592]"
   ]
  },
  {
   "cell_type": "code",
   "execution_count": 21,
   "metadata": {},
   "outputs": [],
   "source": [
    "result_medians = []\n",
    "\n",
    "result_medians.append(mlp)\n",
    "result_medians.append(tree)\n",
    "result_medians.append(svm)"
   ]
  },
  {
   "cell_type": "markdown",
   "metadata": {},
   "source": [
    "Agora é realizado o plot do gráfico `Boxplot`:"
   ]
  },
  {
   "cell_type": "code",
   "execution_count": 23,
   "metadata": {},
   "outputs": [
    {
     "data": {
      "image/png": "[encoded data removed]",
      "text/plain": [
       "<Figure size 432x288 with 1 Axes>"
      ]
     },
     "metadata": {},
     "output_type": "display_data"
    }
   ],
   "source": [
    "fig = plt.figure()\n",
    "fig.suptitle('Comparação de acurácia dos algoritmos \\n Atributos de entrada - Indices Espectrais e as Medianas das Bandas 2, 3, 4 e 5')\n",
    "ax = fig.add_subplot(111)\n",
    "plt.boxplot(result_medians)\n",
    "ax.set_xticklabels([\"MLP\",\"Arvore\",\"SVM\"])\n",
    "plt.show()"
   ]
  },
  {
   "cell_type": "markdown",
   "metadata": {},
   "source": []
  },
  {
   "cell_type": "markdown",
   "metadata": {},
   "source": [
    "### Conclusão"
   ]
  },
  {
   "cell_type": "markdown",
   "metadata": {},
   "source": [
    "Com um estudo mais profundo destes métodos em conjunto com uma base de dados maior, pode vir a ser que a detecção de cicatrizes de queimadas utilizando métodos automáticos, apresentem resultados consideráveis e mais confiáveis.\n",
    "\n",
    "Propomos como trabalho futuro a investigação de outras técnicas, entre elas a análise das séries temporais dos dados vetoriais, afim de eliminar os falsos positivos gerados por áreas agrícolas, analisando o seu comportamento espectral ao longo do tempo."
   ]
  }
 ],
 "metadata": {
  "kernelspec": {
   "display_name": "Python 3",
   "language": "python",
   "name": "python3"
  },
  "language_info": {
   "codemirror_mode": {
    "name": "ipython",
    "version": 3
   },
   "file_extension": ".py",
   "mimetype": "text/x-python",
   "name": "python",
   "nbconvert_exporter": "python",
   "pygments_lexer": "ipython3",
   "version": "3.5.2"
  }
 },
 "nbformat": 4,
 "nbformat_minor": 2
}
