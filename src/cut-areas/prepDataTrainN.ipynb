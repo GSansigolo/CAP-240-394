{
 "cells": [
  {
   "cell_type": "markdown",
   "metadata": {},
   "source": [
    "# prepDataTrainN"
   ]
  },
  {
   "cell_type": "markdown",
   "metadata": {},
   "source": [
    "Simple algorithm to open shapefile, raster and cut files from one another using gdal"
   ]
  },
  {
   "cell_type": "markdown",
   "metadata": {},
   "source": [
    "<b> Imports"
   ]
  },
  {
   "cell_type": "code",
   "execution_count": 1,
   "metadata": {},
   "outputs": [],
   "source": [
    "import io\n",
    "import os\n",
    "import requests\n",
    "import numpy as np\n",
    "import pandas as pd\n",
    "from osgeo import osr\n",
    "from osgeo import gdal\n",
    "from os import listdir\n",
    "import geopandas as gpd\n",
    "from os.path import isfile, join"
   ]
  },
  {
   "cell_type": "markdown",
   "metadata": {},
   "source": [
    "<b> Set Paths"
   ]
  },
  {
   "cell_type": "code",
   "execution_count": 2,
   "metadata": {},
   "outputs": [],
   "source": [
    "tiff_path = \"/home/sansigolo/Documents/git/CAP-240-394/src/cut-areas/LC08_L1TP_221067_20170809_20170824_01_T1/\"\n",
    "\n",
    "shape_path = \"//home/sansigolo/Documents/git/CAP-240-394/src/cut-areas/AQM_L8_221_067_2017/\""
   ]
  },
  {
   "cell_type": "markdown",
   "metadata": {},
   "source": [
    "<b> Read the Files"
   ]
  },
  {
   "cell_type": "code",
   "execution_count": 4,
   "metadata": {},
   "outputs": [
    {
     "name": "stdout",
     "output_type": "stream",
     "text": [
      "\n",
      "Filenames: ['AQM_L8_221_067_2017.prj', 'AQM_L8_221_067_2017.shp', 'AQM_L8_221_067_2017.shx', 'AQM_L8_221_067_2017.dbf']\n"
     ]
    }
   ],
   "source": [
    "filenames = [y for y in listdir(shape_path) for ending in ['dbf', 'shp', 'prj', 'shx'] if y.endswith(ending)] \n",
    "   \n",
    "print(\"\\nFilenames:\",filenames)"
   ]
  },
  {
   "cell_type": "markdown",
   "metadata": {},
   "source": [
    "<b> Open Shapefile"
   ]
  },
  {
   "cell_type": "code",
   "execution_count": 6,
   "metadata": {},
   "outputs": [
    {
     "name": "stdout",
     "output_type": "stream",
     "text": [
      "\n",
      "Shape of the dataframe: (5785, 36)\n",
      "\n"
     ]
    }
   ],
   "source": [
    "dbf, shp, prj,  shx = [filename for filename in filenames]\n",
    "\n",
    "df  = gpd.read_file(shape_path+shp)\n",
    "\n",
    "print(\"\\nShape of the dataframe: {}\".format(df.shape)+\"\\n\")"
   ]
  },
  {
   "cell_type": "markdown",
   "metadata": {},
   "source": [
    "<b> Print Dataframe tail"
   ]
  },
  {
   "cell_type": "code",
   "execution_count": 7,
   "metadata": {},
   "outputs": [
    {
     "name": "stdout",
     "output_type": "stream",
     "text": [
      "\n",
      "Dataframe tail:\n",
      "            id  cod_sat                cena_id                      nome_arq  \\\n",
      "5780  7102656        8  LC82210672017269LGN00  LC82210672017269LGN00.tar.gz   \n",
      "5781  7097583        8  LC82210672017189LGN00  LC82210672017189LGN00.tar.gz   \n",
      "5782  7098332        8  LC82210672017189LGN00  LC82210672017189LGN00.tar.gz   \n",
      "5783  7097780        8  LC82210672017189LGN00  LC82210672017189LGN00.tar.gz   \n",
      "5784  7097382        8  LC82210672017189LGN00  LC82210672017189LGN00.tar.gz   \n",
      "\n",
      "                     data_pas  orb_pto    area_ha  perim versao  \\\n",
      "5780  2017/09/26 00:00:00.000  221_067   0.632092    420    3.3   \n",
      "5781  2017/07/08 00:00:00.000  221_067   1.985133    840    3.3   \n",
      "5782  2017/07/08 00:00:00.000  221_067  24.708948   7440    3.3   \n",
      "5783  2017/07/08 00:00:00.000  221_067   0.992043    480    3.3   \n",
      "5784  2017/07/08 00:00:00.000  221_067   0.541506    360    3.3   \n",
      "\n",
      "                         n_arq_ant  \\\n",
      "5780  LC82210672017253LGN00.tar.gz   \n",
      "5781  LC82210672017173LGN00.tar.gz   \n",
      "5782  LC82210672017173LGN00.tar.gz   \n",
      "5783  LC82210672017173LGN00.tar.gz   \n",
      "5784  LC82210672017173LGN00.tar.gz   \n",
      "\n",
      "                            ...                          data_proc  maquina  \\\n",
      "5780                        ...                               None     None   \n",
      "5781                        ...                               None     None   \n",
      "5782                        ...                               None     None   \n",
      "5783                        ...                               None     None   \n",
      "5784                        ...                               None     None   \n",
      "\n",
      "      proc_id  valida_web user_id               data_valid  \\\n",
      "5780     None        None  3354.0  2017/10/23 13:52:53.889   \n",
      "5781     None        None     NaN                     None   \n",
      "5782     None        None     NaN                     None   \n",
      "5783     None        None     NaN                     None   \n",
      "5784     None        None     NaN                     None   \n",
      "\n",
      "                   data_visua  visualizac  visualizad  \\\n",
      "5780  2017/10/23 13:52:53.889      3354.0           t   \n",
      "5781                     None         NaN           f   \n",
      "5782                     None         NaN           f   \n",
      "5783                     None         NaN           f   \n",
      "5784                     None         NaN           f   \n",
      "\n",
      "                                               geometry  \n",
      "5780  POLYGON ((-46.6527881781347 -9.802201406181791...  \n",
      "5781  POLYGON ((-46.0566282871277 -10.7288649482785,...  \n",
      "5782  POLYGON ((-46.04515250668121 -10.7424678296044...  \n",
      "5783  POLYGON ((-46.9771864343078 -10.2251402153923,...  \n",
      "5784  POLYGON ((-47.1247830448965 -9.8966496774886, ...  \n",
      "\n",
      "[5 rows x 36 columns]\n"
     ]
    }
   ],
   "source": [
    "print(\"\\nDataframe tail:\\n\", df.tail())"
   ]
  },
  {
   "cell_type": "markdown",
   "metadata": {},
   "source": [
    "<b> Filter the Dataframe"
   ]
  },
  {
   "cell_type": "code",
   "execution_count": 8,
   "metadata": {},
   "outputs": [],
   "source": [
    "df = df[df['verifica'] == 3]\n",
    "df = df[df['data_pas'] == '2017/08/09 00:00:00.000']"
   ]
  },
  {
   "cell_type": "markdown",
   "metadata": {},
   "source": [
    "<b> Set Buffer"
   ]
  },
  {
   "cell_type": "code",
   "execution_count": 9,
   "metadata": {},
   "outputs": [],
   "source": [
    "df['geometry'] = df['geometry'].buffer(0.002)\n",
    "#df['geometry'] = df['geometry'].envelope"
   ]
  },
  {
   "cell_type": "markdown",
   "metadata": {},
   "source": [
    "<b> For loop to crop all bands tifs from a from given Geometry"
   ]
  },
  {
   "cell_type": "code",
   "execution_count": 10,
   "metadata": {},
   "outputs": [],
   "source": [
    "for i in range(9): #len(df)\n",
    "    gp = df[df['geometry'] == df.iloc[i]['geometry']]\n",
    "    gp.to_file(shape_path+\"new_shape_221_067_20170809_\"+str(i))\n",
    "    shapefile = shape_path+\"new_shape_221_067_20170809_\"+str(i)+\"/new_shape_221_067_20170809_\"+str(i)+\".shp\"\n",
    "    for j in range(1,12):\n",
    "        new_tiff_file = \"output/falsos_\"+str(i)+\"_B\"+str(j)+\"_.TIF\"\n",
    "        os.system(\"gdalwarp -overwrite -q -cutline \" +shapefile+ \" -crop_to_cutline -tr 30.0 30.0 \" +tiff_path+'LC08_L1TP_221067_20170809_20170824_01_T1_B'+str(j)+'.TIF'+ \" \" +new_tiff_file)"
   ]
  }
 ],
 "metadata": {
  "kernelspec": {
   "display_name": "Python 3",
   "language": "python",
   "name": "python3"
  },
  "language_info": {
   "codemirror_mode": {
    "name": "ipython",
    "version": 3
   },
   "file_extension": ".py",
   "mimetype": "text/x-python",
   "name": "python",
   "nbconvert_exporter": "python",
   "pygments_lexer": "ipython3",
   "version": "3.5.2"
  }
 },
 "nbformat": 4,
 "nbformat_minor": 2
}
