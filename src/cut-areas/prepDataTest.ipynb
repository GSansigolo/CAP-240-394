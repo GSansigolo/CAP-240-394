{
 "cells": [
  {
   "cell_type": "markdown",
   "metadata": {},
   "source": [
    "# prepDataTest"
   ]
  },
  {
   "cell_type": "markdown",
   "metadata": {},
   "source": [
    "Simple algorithm to open shapefile, raster and cut files from one another using gdal"
   ]
  },
  {
   "cell_type": "markdown",
   "metadata": {},
   "source": [
    "<b> Imports"
   ]
  },
  {
   "cell_type": "code",
   "execution_count": 1,
   "metadata": {},
   "outputs": [],
   "source": [
    "import io\n",
    "import os\n",
    "import requests\n",
    "import numpy as np\n",
    "import pandas as pd\n",
    "from osgeo import osr\n",
    "from osgeo import gdal\n",
    "from os import listdir\n",
    "import geopandas as gpd\n",
    "from os.path import isfile, join"
   ]
  },
  {
   "cell_type": "markdown",
   "metadata": {},
   "source": [
    "<b> Set Paths"
   ]
  },
  {
   "cell_type": "code",
   "execution_count": 2,
   "metadata": {},
   "outputs": [],
   "source": [
    "tiff_path = \"/home/sansigolo/Documents/git/CAP-240-394/src/cut-areas/LC08_L1TP_221067_20170926_20171013_01_T1/\"\n",
    "\n",
    "shape_path = \"/home/sansigolo/Documents/git/CAP-240-394/src/cut-areas/221_067_2017-09-26_AQ30M_02_05.3/\""
   ]
  },
  {
   "cell_type": "markdown",
   "metadata": {},
   "source": [
    "<b> Read Shapefile path"
   ]
  },
  {
   "cell_type": "code",
   "execution_count": 3,
   "metadata": {},
   "outputs": [
    {
     "name": "stdout",
     "output_type": "stream",
     "text": [
      "\n",
      "Filenames:  ['221_067_2017-09-26_AQ30M_02_05.prj', '221_067_2017-09-26_AQ30M_02_05.dbf', '221_067_2017-09-26_AQ30M_02_05.shp', '221_067_2017-09-26_AQ30M_02_05.shx']\n"
     ]
    }
   ],
   "source": [
    "filenames = [y for y in listdir(shape_path) for ending in ['dbf', 'shp', 'prj', 'shx'] if y.endswith(ending)] \n",
    "   \n",
    "print(\"\\nFilenames: \",filenames)"
   ]
  },
  {
   "cell_type": "markdown",
   "metadata": {},
   "source": [
    "<b> Open Shapefile"
   ]
  },
  {
   "cell_type": "code",
   "execution_count": 4,
   "metadata": {},
   "outputs": [
    {
     "name": "stdout",
     "output_type": "stream",
     "text": [
      "\n",
      "Shape of the dataframe: (1072, 28)\n",
      "\n"
     ]
    }
   ],
   "source": [
    "dbf, shp, prj,  shx = [filename for filename in filenames]\n",
    "\n",
    "df  = gpd.read_file(shape_path+shp)\n",
    "\n",
    "print(\"\\nShape of the dataframe: {}\".format(df.shape)+\"\\n\")"
   ]
  },
  {
   "cell_type": "markdown",
   "metadata": {},
   "source": [
    "<b> Print Dataframe Tail"
   ]
  },
  {
   "cell_type": "code",
   "execution_count": 5,
   "metadata": {},
   "outputs": [
    {
     "name": "stdout",
     "output_type": "stream",
     "text": [
      "\n",
      "Dataframe tail:\n",
      "         id                      nome_arq    data_pas  orb_pto    area_ha  \\\n",
      "1067  1067  LC82210672017269LGN00.tar.gz  2017-09-26  221_067   2.255213   \n",
      "1068  1068  LC82210672017269LGN00.tar.gz  2017-09-26  221_067   0.992573   \n",
      "1069  1069  LC82210672017269LGN00.tar.gz  2017-09-26  221_067   1.262534   \n",
      "1070  1070  LC82210672017269LGN00.tar.gz  2017-09-26  221_067  44.242770   \n",
      "1071  1071  LC82210672017269LGN00.tar.gz  2017-09-26  221_067  16.661464   \n",
      "\n",
      "      perim versao                     n_arq_ant       fid  proc_id  \\\n",
      "1067    840    3.3  LC82210672017253LGN00.tar.gz  19346781     6091   \n",
      "1068    540    3.3  LC82210672017253LGN00.tar.gz  19346783     6091   \n",
      "1069    540    3.3  LC82210672017253LGN00.tar.gz  19346786     6091   \n",
      "1070   6600    3.3  LC82210672017253LGN00.tar.gz  19346788     6091   \n",
      "1071   2700    3.3  LC82210672017253LGN00.tar.gz  19346791     6091   \n",
      "\n",
      "                            ...                          medianb5  medianb6  \\\n",
      "1067                        ...                          0.169537  0.209787   \n",
      "1068                        ...                          0.235081  0.284678   \n",
      "1069                        ...                          0.202095  0.284048   \n",
      "1070                        ...                          0.182488  0.242424   \n",
      "1071                        ...                          0.286142  0.367746   \n",
      "\n",
      "      medianb7                cena_id  cod_sat   ano  lim_ndvi  lim_nbrl  \\\n",
      "1067  0.138499  LC82210672017269LGN00        8  2017       0.2       0.5   \n",
      "1068  0.219990  LC82210672017269LGN00        8  2017       0.2       0.5   \n",
      "1069  0.229101  LC82210672017269LGN00        8  2017       0.2       0.5   \n",
      "1070  0.187691  LC82210672017269LGN00        8  2017       0.2       0.5   \n",
      "1071  0.317135  LC82210672017269LGN00        8  2017       0.2       0.5   \n",
      "\n",
      "                data_proc                                           geometry  \n",
      "1067  2017-10-05 20:13:16  POLYGON ((-46.0858741649548 -9.73042652200496,...  \n",
      "1068  2017-10-05 20:13:16  POLYGON ((-46.7675912794579 -9.946994889007451...  \n",
      "1069  2017-10-05 20:13:16  POLYGON ((-46.7705916572956 -9.945351726035931...  \n",
      "1070  2017-10-05 20:13:16  POLYGON ((-46.0857560105208 -9.945562770846569...  \n",
      "1071  2017-10-05 20:13:16  POLYGON ((-46.7621041113271 -9.94404046007981,...  \n",
      "\n",
      "[5 rows x 28 columns]\n"
     ]
    }
   ],
   "source": [
    "print(\"\\nDataframe tail:\\n\", df.tail())"
   ]
  },
  {
   "cell_type": "markdown",
   "metadata": {},
   "source": [
    "<b> Set a Buffer from given Geometry"
   ]
  },
  {
   "cell_type": "code",
   "execution_count": 6,
   "metadata": {},
   "outputs": [],
   "source": [
    "df['geometry'] = df['geometry'].buffer(0.002)"
   ]
  },
  {
   "cell_type": "markdown",
   "metadata": {},
   "source": [
    "<b> For loop to crop all bands tifs from a from given Geometry"
   ]
  },
  {
   "cell_type": "code",
   "execution_count": 7,
   "metadata": {},
   "outputs": [],
   "source": [
    "for i in range(9): #len(df)\n",
    "\tgp = df[df['geometry'] == df['geometry'][i]]\n",
    "\tgp.to_file(shape_path+\"new_shape_221_067_09-26_\"+str(i))\n",
    "\tshapefile = shape_path+\"new_shape_221_067_09-26_\"+str(i)+\"/new_shape_221_067_09-26_\"+str(i)+\".shp\"\n",
    "\tfor j in range(1,12):\n",
    "\t\tnew_tiff_file = \"output/teste_\"+str(i)+\"_B\"+str(j)+\"_.TIF\"\n",
    "\t\tos.system(\"gdalwarp -overwrite -q -cutline \" +shapefile+ \" -crop_to_cutline -tr 30.0 30.0 \" +tiff_path+'LC08_L1TP_221067_20170926_20171013_01_T1_B'+str(j)+'.TIF'+ \" \" +new_tiff_file)"
   ]
  },
  {
   "cell_type": "markdown",
   "metadata": {},
   "source": [
    "<b> Output\n",
    "<img src=\"img/1.png\" alt=\"drawing\" width=\"600\"/>"
   ]
  }
 ],
 "metadata": {
  "kernelspec": {
   "display_name": "Python 3",
   "language": "python",
   "name": "python3"
  },
  "language_info": {
   "codemirror_mode": {
    "name": "ipython",
    "version": 3
   },
   "file_extension": ".py",
   "mimetype": "text/x-python",
   "name": "python",
   "nbconvert_exporter": "python",
   "pygments_lexer": "ipython3",
   "version": "3.5.2"
  }
 },
 "nbformat": 4,
 "nbformat_minor": 2
}
