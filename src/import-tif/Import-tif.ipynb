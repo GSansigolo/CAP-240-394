{
 "cells": [
  {
   "cell_type": "markdown",
   "metadata": {},
   "source": [
    "Código para importação dos tifs"
   ]
  },
  {
   "cell_type": "markdown",
   "metadata": {},
   "source": [
    "Import"
   ]
  },
  {
   "cell_type": "code",
   "execution_count": 1,
   "metadata": {},
   "outputs": [],
   "source": [
    "from osgeo import gdal\n",
    "import matplotlib.pyplot as plt\n",
    "import numpy as np\n",
    "from numpy import *\n",
    "import pandas as pd\n",
    "from os import listdir"
   ]
  },
  {
   "cell_type": "markdown",
   "metadata": {},
   "source": [
    "Define o caminho onde os tifs se encontram"
   ]
  },
  {
   "cell_type": "code",
   "execution_count": 3,
   "metadata": {},
   "outputs": [],
   "source": [
    "mypath = \"/home/sansigolo/Documents/git/CAP-240-394/data-tif/\""
   ]
  },
  {
   "cell_type": "markdown",
   "metadata": {},
   "source": [
    "Acessa a pasta onde os tifs se encontram, lê ela  e salva todos os nomes dos arquivos com final .tif que se encontram ali"
   ]
  },
  {
   "cell_type": "code",
   "execution_count": 6,
   "metadata": {},
   "outputs": [],
   "source": [
    "filenames = [y for y in listdir(mypath) for ending in ['TIF','tif'] if y.endswith(ending)] "
   ]
  },
  {
   "cell_type": "markdown",
   "metadata": {},
   "source": [
    "Define o dataframe via pandas"
   ]
  },
  {
   "cell_type": "code",
   "execution_count": 7,
   "metadata": {},
   "outputs": [],
   "source": [
    "df = pd.DataFrame(columns=['Filename','ReadAsArray'])"
   ]
  },
  {
   "cell_type": "markdown",
   "metadata": {},
   "source": [
    "Para cada um arquivo na lista filenames faça, tente ler o arquivo via gdal, define um array através do tif, imprima o nome do arquivo e guarde o no dataframe"
   ]
  },
  {
   "cell_type": "code",
   "execution_count": 8,
   "metadata": {},
   "outputs": [
    {
     "name": "stdout",
     "output_type": "stream",
     "text": [
      "[221_067_2017-01-13_ref_B4_byte.tif]\n",
      "[221_067_2017-01-13_ref_B6.tif]\n",
      "[221_067_2017-07-08_RGB.TIF]\n",
      "[221_067_2017-01-13_ref_B2.tif]\n",
      "[221_067_2017-06-22_COMPgeo.tif]\n",
      "[221_067_2017-09-10_COMPgeo.tif]\n",
      "[221_067_2017-07-24_COMPgeo.tif]\n",
      "[221_067_2017-05-21_nuvem.tif]\n",
      "[221_067_2017-01-13_ref_B5_byte.tif]\n",
      "[221_067_2017-01-13_ref_B5.tif]\n",
      "[221_067_2017-10-12_COMPgeo.tif]\n",
      "[221_067_2017-08-25_RGB.TIF]\n",
      "[221_067_2017-01-13_nbrl.tif]\n",
      "[221_067_2017-08-09_nuvem.tif]\n",
      "[221_067_2017-07-24_nuvem.tif]\n",
      "[221_067_2017-05-05_RGB.TIF]\n",
      "[221_067_2017-01-13_ref_B3.tif]\n",
      "[221_067_2017-09-10_nuvem.tif]\n",
      "[221_067_2017-10-12_RGB.TIF]\n",
      "[221_067_2017-05-21_COMPgeo.tif]\n",
      "[221_067_2017-07-24_RGB.TIF]\n",
      "[221_067_2017-01-13_ref_B7.tif]\n",
      "[221_067_2017-08-09_COMPgeo.tif]\n",
      "[221_067_2017-01-13_ndvi.tif]\n",
      "[221_067_2017-07-08_nuvem.tif]\n",
      "[221_067_2017-08-25_nuvem.tif]\n",
      "[221_067_2017-05-05_nuvem.tif]\n",
      "[221_067_2017-08-25_COMPgeo.tif]\n",
      "[221_067_2017-06-06_RGB.TIF]\n",
      "[221_067_2017-01-13_ref_B4.tif]\n",
      "[221_067_2017-06-06_COMPgeo.tif]\n",
      "[221_067_2017-10-12_nuvem.tif]\n",
      "[221_067_2017-06-22_nuvem.tif]\n",
      "[221_067_2017-04-19_nuvem.tif]\n",
      "[221_067_2017-09-26_AQ30M_02_05.tif]\n",
      "[221_067_2017-07-08_COMPgeo.tif]\n",
      "[221_067_2017-04-19_RGB.TIF]\n",
      "[221_067_2017-06-06_nuvem.tif]\n",
      "[221_067_2017-09-26_COMPgeo.tif]\n",
      "[221_067_2017-05-21_RGB.TIF]\n",
      "[221_067_2017-09-10_RGB.TIF]\n",
      "[221_067_2017-08-09_RGB.TIF]\n",
      "[221_067_2017-01-13_ref_B6_byte.tif]\n",
      "[221_067_2017-05-05_COMPgeo.tif]\n",
      "[221_067_2017-09-26_nuvem.tif]\n",
      "[221_067_2017-01-13_nuvem.tif]\n",
      "[221_067_2017-06-22_RGB.TIF]\n",
      "[221_067_2017-01-13_RGB.TIF]\n",
      "[221_067_2017-09-26_RGB.TIF]\n"
     ]
    }
   ],
   "source": [
    "for filenames in filenames:\n",
    "\n",
    "\ttry:\n",
    "\t\ttif = gdal.Open(mypath+filenames)\n",
    "\texcept:\n",
    "\t\tprint('The file does not exist.')\n",
    "\n",
    "\tarray = tif.ReadAsArray()\n",
    "\n",
    "\tprint('['+filenames+']')\n",
    "\n",
    "\tdf = df.append({'Filename': filenames, 'ReadAsArray': array}, ignore_index=True)\n"
   ]
  },
  {
   "cell_type": "markdown",
   "metadata": {},
   "source": [
    "Imprima os últimos cinco itens do dataframe"
   ]
  },
  {
   "cell_type": "code",
   "execution_count": 10,
   "metadata": {},
   "outputs": [
    {
     "name": "stdout",
     "output_type": "stream",
     "text": [
      "                        Filename  \\\n",
      "44  221_067_2017-09-26_nuvem.tif   \n",
      "45  221_067_2017-01-13_nuvem.tif   \n",
      "46    221_067_2017-06-22_RGB.TIF   \n",
      "47    221_067_2017-01-13_RGB.TIF   \n",
      "48    221_067_2017-09-26_RGB.TIF   \n",
      "\n",
      "                                          ReadAsArray  \n",
      "44  [[0, 0, 0, 0, 0, 0, 0, 0, 0, 0, 0, 0, 0, 0, 0,...  \n",
      "45  [[0, 0, 0, 0, 0, 0, 0, 0, 0, 0, 0, 0, 0, 0, 0,...  \n",
      "46  [[[0, 0, 0, 0, 0, 0, 0, 0, 0, 0, 0, 0, 0, 0, 0...  \n",
      "47  [[[0, 0, 0, 0, 0, 0, 0, 0, 0, 0, 0, 0, 0, 0, 0...  \n",
      "48  [[[0, 0, 0, 0, 0, 0, 0, 0, 0, 0, 0, 0, 0, 0, 0...  \n"
     ]
    }
   ],
   "source": [
    "print(df.tail())"
   ]
  },
  {
   "cell_type": "code",
   "execution_count": null,
   "metadata": {},
   "outputs": [],
   "source": []
  }
 ],
 "metadata": {
  "kernelspec": {
   "display_name": "Python 3",
   "language": "python",
   "name": "python3"
  },
  "language_info": {
   "codemirror_mode": {
    "name": "ipython",
    "version": 3
   },
   "file_extension": ".py",
   "mimetype": "text/x-python",
   "name": "python",
   "nbconvert_exporter": "python",
   "pygments_lexer": "ipython3",
   "version": "3.5.2"
  }
 },
 "nbformat": 4,
 "nbformat_minor": 2
}
